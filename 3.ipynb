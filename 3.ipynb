{
 "cells": [
  {
   "cell_type": "code",
   "execution_count": 1,
   "metadata": {},
   "outputs": [],
   "source": [
    "import math\n",
    "import sqlite3\n",
    "import pandas as pd"
   ]
  },
  {
   "cell_type": "code",
   "execution_count": 3,
   "metadata": {},
   "outputs": [
    {
     "name": "stdout",
     "output_type": "stream",
     "text": [
      "Total rows 2015: 31834\n",
      "Unique players 2015: 7414\n",
      "Total rows after dropna: 31818\n",
      "Unique players after dropna 7414\n"
     ]
    }
   ],
   "source": [
    "def get_data(sql_command):\n",
    "\tcon = sqlite3.connect(\"data/database.sqlite\")\n",
    "\tdata = pd.read_sql(sql_command,con)\n",
    "\tcon.close()\n",
    "\treturn data\n",
    "\n",
    "sqlcommand = \"SELECT  A1.player_name NAME, height, weight, overall_rating, potential, preferred_foot, attacking_work_rate, defensive_work_rate, crossing, finishing, heading_accuracy, short_passing, volleys, dribbling, curve, free_kick_accuracy, long_passing, ball_control, acceleration, sprint_speed, agility, reactions, balance, shot_power, jumping, stamina, strength, long_shots, aggression, interceptions, positioning, vision, penalties, marking, standing_tackle, sliding_tackle, gk_diving, gk_handling, gk_kicking, gk_positioning, gk_reflexes FROM Player A1 INNER JOIN Player_Attributes A2 ON A1.player_api_id = A2.player_api_id WHERE A2.date LIKE '2015%'\"\n",
    "\n",
    "data = get_data(sqlcommand)\n",
    "print (\"Total rows 2015:\", str(len(data)))\n",
    "print (\"Unique players 2015:\", str(len(data[\"NAME\"].unique())))\n",
    "\n",
    "data = data.dropna()\n",
    "unique = data[\"NAME\"].unique() \n",
    "print (\"Total rows after dropna:\", str(len(data)))\n",
    "print (\"Unique players after dropna\", str(len(data[\"NAME\"].unique())))"
   ]
  },
  {
   "cell_type": "code",
   "execution_count": 4,
   "metadata": {},
   "outputs": [
    {
     "name": "stdout",
     "output_type": "stream",
     "text": [
      "Final number of players: 7414\n"
     ]
    }
   ],
   "source": [
    "unique = data[\"NAME\"].unique()\n",
    "dic = {}\n",
    "for name in unique:\n",
    "\trow = data[data[\"NAME\"]==name].iloc[[0]]\n",
    "\tname = row.iloc[0][\"NAME\"]\n",
    "\theight = row.iloc[0][\"height\"]\n",
    "\tweight = row.iloc[0][\"weight\"]\n",
    "\toverall_rating = row.iloc[0][\"overall_rating\"]\n",
    "\tpotential= row.iloc[0][\"potential\"]\n",
    "\tcrossing= row.iloc[0][\"crossing\"]\n",
    "\tfinishing= row.iloc[0][\"finishing\"]\n",
    "\theading_accuracy= row.iloc[0][\"heading_accuracy\"]\n",
    "\tshort_passing= row.iloc[0][\"short_passing\"]\n",
    "\tvolleys= row.iloc[0][\"volleys\"]\n",
    "\tdribbling= row.iloc[0][\"dribbling\"]\n",
    "\tcurve= row.iloc[0][\"curve\"]\n",
    "\tfree_kick_accuracy= row.iloc[0][\"free_kick_accuracy\"]\n",
    "\tlong_passing= row.iloc[0][\"long_passing\"]\n",
    "\tball_control= row.iloc[0][\"ball_control\"]\n",
    "\tacceleration= row.iloc[0][\"acceleration\"]\n",
    "\tsprint_speed= row.iloc[0][\"sprint_speed\"]\n",
    "\tagility= row.iloc[0][\"agility\"]\n",
    "\treactions= row.iloc[0][\"reactions\"]\n",
    "\tbalance= row.iloc[0][\"balance\"]\n",
    "\tshot_power= row.iloc[0][\"shot_power\"]\n",
    "\tjumping= row.iloc[0][\"jumping\"]\n",
    "\tstamina= row.iloc[0][\"stamina\"]\n",
    "\tstrength= row.iloc[0][\"strength\"]\n",
    "\tlong_shots= row.iloc[0][\"long_shots\"]\n",
    "\taggression= row.iloc[0][\"aggression\"]\n",
    "\tinterceptions= row.iloc[0][\"interceptions\"]\n",
    "\tpositioning= row.iloc[0][\"positioning\"]\n",
    "\tvision= row.iloc[0][\"vision\"]\n",
    "\tpenalties=row.iloc[0][\"penalties\"]\n",
    "\tmarking= row.iloc[0][\"marking\"]\n",
    "\tstanding_tackle= row.iloc[0][\"standing_tackle\"]\n",
    "\tsliding_tackle= row.iloc[0][\"sliding_tackle\"]\n",
    "\tgk_diving=row.iloc[0][\"gk_diving\"]\n",
    "\tgk_handling= row.iloc[0][\"gk_handling\"]\n",
    "\tgk_kicking= row.iloc[0][\"gk_kicking\"]\n",
    "\tgk_positioning= row.iloc[0][\"gk_positioning\"]\n",
    "\tgk_reflexes = row.iloc[0][\"gk_reflexes\"]\n",
    "\tvector = (height, weight, overall_rating,\n",
    "              potential, crossing, finishing, heading_accuracy, short_passing, volleys,\n",
    "              dribbling, curve, free_kick_accuracy, long_passing, ball_control,\n",
    "              acceleration, sprint_speed, agility, reactions, balance, shot_power,\n",
    "              jumping, stamina, strength, long_shots, aggression, interceptions,\n",
    "              positioning, vision, penalties, marking, standing_tackle, sliding_tackle,\n",
    "              gk_diving, gk_handling, gk_kicking, gk_positioning, gk_reflexes)\n",
    "\n",
    "\tdic[name] = vector\n",
    "    \n",
    "print (\"Final number of players:\", len(dic))"
   ]
  },
  {
   "cell_type": "code",
   "execution_count": 5,
   "metadata": {},
   "outputs": [
    {
     "name": "stdout",
     "output_type": "stream",
     "text": [
      "First:  Pierre-Emerick Aubameyang . Distance:  53.985661059210905\n",
      "Second:  Robert Lewandowski . Distance:  54.00925846556311\n",
      "Third:  Alexandre Lacazette . Distance:  55.8052470651282\n"
     ]
    }
   ],
   "source": [
    "# Euclidean distance\n",
    "def euclidean_distance (vector1,vector2):\n",
    "        return math.sqrt(sum((vector1[i]-vector2[i])**2 for i in range(len(vector1))))\n",
    "\n",
    "def euc_dist(asked_player):\n",
    "        vector_player1 = list(dic[asked_player])\n",
    "        similars = {}\n",
    "        for player in dic:\n",
    "                if player!= asked_player:\n",
    "                        vector_player2 = list(dic[player])\n",
    "                        distance = euclidean_distance(vector_player1,vector_player2)\n",
    "                        similars[player]=distance\n",
    "                else:\n",
    "                        pass\n",
    "        similars_names = sorted(similars, key=similars.get, reverse=False)\n",
    "        result = []\n",
    "        cont = 0\n",
    "        for similar in similars_names:\n",
    "                if cont >2:\n",
    "                        break\n",
    "                euc_dist = similars[similar]\n",
    "                result.append((similar,euc_dist))\n",
    "                cont +=1 \n",
    "        return result\n",
    "    \n",
    "similars_ed = euc_dist(\"Cristiano Ronaldo\")\n",
    "print (\"First: \", similars_ed[0][0], \". Distance: \",similars_ed[0][1])\n",
    "print (\"Second: \", similars_ed[1][0], \". Distance: \",similars_ed[1][1])\n",
    "print (\"Third: \", similars_ed[2][0], \". Distance: \",similars_ed[2][1])"
   ]
  }
 ],
 "metadata": {
  "interpreter": {
   "hash": "0d2719914bc58f75f5dc064a4457deb1dc59777cd5142d80ef58b64b014325d7"
  },
  "kernelspec": {
   "display_name": "Python 3.9.10 64-bit ('footballapp': venv)",
   "language": "python",
   "name": "python3"
  },
  "language_info": {
   "codemirror_mode": {
    "name": "ipython",
    "version": 3
   },
   "file_extension": ".py",
   "mimetype": "text/x-python",
   "name": "python",
   "nbconvert_exporter": "python",
   "pygments_lexer": "ipython3",
   "version": "3.9.12"
  },
  "orig_nbformat": 4
 },
 "nbformat": 4,
 "nbformat_minor": 2
}
